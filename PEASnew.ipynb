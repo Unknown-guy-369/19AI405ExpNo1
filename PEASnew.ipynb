{
 "cells": [
  {
   "cell_type": "code",
   "execution_count": 1,
   "id": "65155b6a-8f34-4697-8c51-eeae11a5d97e",
   "metadata": {},
   "outputs": [
    {
     "name": "stdout",
     "output_type": "stream",
     "text": [
      "\n",
      "Agent in Room1 | Patient Temp: 100.4 °F\n",
      "→ Patient has fever. Prescribing medicine...\n",
      "Agent moving from Room1 to Room2...\n",
      "\n",
      "Agent in Room2 | Patient Temp: 101.2 °F\n",
      "→ Patient has fever. Prescribing medicine...\n",
      "\n",
      "Final Performance Score: 1\n"
     ]
    }
   ],
   "source": [
    "import random\n",
    "\n",
    "class MedicinePrescribingAgent:\n",
    "    def __init__(self):\n",
    "        self.performance = 0\n",
    "        self.rooms = {\n",
    "            \"Room1\": self.generate_patient(),\n",
    "            \"Room2\": self.generate_patient()\n",
    "        }\n",
    "\n",
    "    def generate_patient(self):\n",
    "        \"\"\"Generate a patient with random temperature\"\"\"\n",
    "        temperature = round(random.uniform(97.0, 102.0), 1)  # Random temp\n",
    "        return {\"temperature\": temperature}\n",
    "\n",
    "    def treat_patient(self, room, patient):\n",
    "        \"\"\"Check temperature and treat if unhealthy\"\"\"\n",
    "        print(f\"\\nAgent in {room} | Patient Temp: {patient['temperature']} °F\")\n",
    "\n",
    "        if patient[\"temperature\"] > 98.5:\n",
    "            print(\"→ Patient has fever. Prescribing medicine...\")\n",
    "            self.performance += 1  # Successful treatment\n",
    "        else:\n",
    "            print(\"→ Patient is healthy. No medicine required.\")\n",
    "\n",
    "    def run(self):\n",
    "        rooms_list = list(self.rooms.keys())\n",
    "\n",
    "        for i in range(len(rooms_list)):\n",
    "            room = rooms_list[i]\n",
    "            patient = self.rooms[room]\n",
    "\n",
    "            # Sense and treat\n",
    "            self.treat_patient(room, patient)\n",
    "\n",
    "            # Move to next room if exists\n",
    "            if i < len(rooms_list) - 1:\n",
    "                print(f\"Agent moving from {room} to {rooms_list[i+1]}...\")\n",
    "                self.performance -= 1  # Movement cost\n",
    "\n",
    "        print(\"\\nFinal Performance Score:\", self.performance)\n",
    "\n",
    "\n",
    "# Run the agent\n",
    "agent = MedicinePrescribingAgent()\n",
    "agent.run()\n"
   ]
  },
  {
   "cell_type": "code",
   "execution_count": null,
   "id": "8c1cb3c8-36bb-4551-973d-4c433fa8b0fd",
   "metadata": {},
   "outputs": [],
   "source": []
  }
 ],
 "metadata": {
  "kernelspec": {
   "display_name": "Python [conda env:base] *",
   "language": "python",
   "name": "conda-base-py"
  },
  "language_info": {
   "codemirror_mode": {
    "name": "ipython",
    "version": 3
   },
   "file_extension": ".py",
   "mimetype": "text/x-python",
   "name": "python",
   "nbconvert_exporter": "python",
   "pygments_lexer": "ipython3",
   "version": "3.12.7"
  }
 },
 "nbformat": 4,
 "nbformat_minor": 5
}
